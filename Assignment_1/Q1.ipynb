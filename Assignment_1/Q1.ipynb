{
 "cells": [
  {
   "cell_type": "code",
   "execution_count": 1,
   "id": "a1a14640",
   "metadata": {},
   "outputs": [
    {
     "name": "stderr",
     "output_type": "stream",
     "text": [
      "d:\\SVNIT\\Semester - 5\\Natural Language Processing\\Practical\\Assignment_1\\env\\Lib\\site-packages\\tqdm\\auto.py:21: TqdmWarning: IProgress not found. Please update jupyter and ipywidgets. See https://ipywidgets.readthedocs.io/en/stable/user_install.html\n",
      "  from .autonotebook import tqdm as notebook_tqdm\n"
     ]
    }
   ],
   "source": [
    "from datasets import load_dataset\n",
    "import re"
   ]
  },
  {
   "cell_type": "code",
   "execution_count": 2,
   "id": "0030cc05",
   "metadata": {},
   "outputs": [],
   "source": [
    "dataset = load_dataset(\"ai4bharat/IndicCorpV2\", \"indiccorp_v2\", split=\"guj_Gujr\", streaming=True)"
   ]
  },
  {
   "cell_type": "code",
   "execution_count": 3,
   "id": "c7b5d135",
   "metadata": {},
   "outputs": [],
   "source": [
    "def sentence_tokenizer(paragraph):\n",
    "    paragraph = re.sub(r'\\s+', ' ', paragraph.strip())\n",
    "    sentences = re.split(r'(?<=[.!?])\\s+', paragraph)\n",
    "    return [sentence.strip() for sentence in sentences if sentence.strip()]"
   ]
  },
  {
   "cell_type": "code",
   "execution_count": 4,
   "id": "b803948d",
   "metadata": {},
   "outputs": [],
   "source": [
    "def word_tokenizer(sentence):\n",
    "    patterns = [\n",
    "        r'https?://\\S+',\n",
    "        r'\\b[\\w\\.-]+?@\\w+\\.\\w+\\b',\n",
    "        r'\\b\\d{1,2}[/-]\\d{1,2}[/-]\\d{2,4}\\b',\n",
    "        r'\\d+\\.\\d+|\\d+',\n",
    "        r'[^\\w\\s\\u0A80-\\u0AFF]',\n",
    "        r'[\\u0A80-\\u0AFF]+',\n",
    "        r'[A-Za-z]+'\n",
    "    ]\n",
    "    return re.compile('|'.join(patterns)).findall(sentence)"
   ]
  },
  {
   "cell_type": "code",
   "execution_count": 5,
   "id": "226d319a",
   "metadata": {},
   "outputs": [
    {
     "name": "stdout",
     "output_type": "stream",
     "text": [
      "Tokenized sentences stored in 'Q1_tokenized_sentences.txt'\n"
     ]
    }
   ],
   "source": [
    "no_of_sentences = 0\n",
    "with open(\"Q1_tokenized_sentences.txt\", \"w\", encoding=\"utf-8\") as f:\n",
    "    for i, data in enumerate(dataset):\n",
    "        sentences = sentence_tokenizer(data['text'])\n",
    "        for sentence in sentences:\n",
    "            f.write(sentence + '\\n')\n",
    "            no_of_sentences += 1\n",
    "        if i >= 1000:\n",
    "            break\n",
    "print(\"Tokenized sentences stored in 'Q1_tokenized_sentences.txt'\")"
   ]
  },
  {
   "cell_type": "code",
   "execution_count": 6,
   "id": "dbf257a0",
   "metadata": {},
   "outputs": [
    {
     "name": "stdout",
     "output_type": "stream",
     "text": [
      "Tokenized sentences from words stored in 'Q1_tokenized_sentences_from_words.txt'\n"
     ]
    }
   ],
   "source": [
    "no_of_words = []\n",
    "no_of_chars = []\n",
    "with open(\"Q1_tokenized_sentences.txt\", \"r\", encoding=\"utf-8\") as f:\n",
    "    sentences = f.readlines()\n",
    "with open(\"Q1_tokenized_sentences_from_words.txt\", \"w\", encoding=\"utf-8\") as f:\n",
    "    for sentence in sentences:\n",
    "        words = word_tokenizer(sentence)\n",
    "        for word in words:\n",
    "            f.write(word + ' ')\n",
    "            no_of_chars.append(len(word))\n",
    "        f.write('\\n')\n",
    "        no_of_words.append(len(words))\n",
    "print(\"Tokenized sentences from words stored in 'Q1_tokenized_sentences_from_words.txt'\")"
   ]
  },
  {
   "cell_type": "code",
   "execution_count": 7,
   "id": "7c7c75de",
   "metadata": {},
   "outputs": [
    {
     "name": "stdout",
     "output_type": "stream",
     "text": [
      "Corpus Statistics:-\n",
      "Total number of sentences: 1447\n",
      "Total number of words: 25130\n",
      "Total number of characters: 110673\n",
      "Average sentence length: 17.36696613683483\n",
      "Average word length: 4.404019100676482\n",
      "Type/Token Ratio (TTR): 0.0029048945483485873\n"
     ]
    }
   ],
   "source": [
    "print(\"Corpus Statistics:-\")\n",
    "print(f\"Total number of sentences: {no_of_sentences}\")\n",
    "print(f\"Total number of words: {sum(no_of_words)}\")\n",
    "print(f\"Total number of characters: {sum(no_of_chars)}\")\n",
    "print(f\"Average sentence length: {sum(no_of_words) / no_of_sentences if no_of_sentences > 0 else 0}\")\n",
    "print(f\"Average word length: {sum(no_of_chars) / sum(no_of_words) if sum(no_of_words) > 0 else 0}\")\n",
    "print(f\"Type/Token Ratio (TTR): {len(set(no_of_words)) / sum(no_of_words) if sum(no_of_words) > 0 else 0}\")"
   ]
  }
 ],
 "metadata": {
  "kernelspec": {
   "display_name": "env",
   "language": "python",
   "name": "python3"
  },
  "language_info": {
   "codemirror_mode": {
    "name": "ipython",
    "version": 3
   },
   "file_extension": ".py",
   "mimetype": "text/x-python",
   "name": "python",
   "nbconvert_exporter": "python",
   "pygments_lexer": "ipython3",
   "version": "3.13.7"
  }
 },
 "nbformat": 4,
 "nbformat_minor": 5
}
