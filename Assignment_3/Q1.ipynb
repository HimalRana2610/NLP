{
 "cells": [
  {
   "cell_type": "code",
   "execution_count": 1,
   "id": "10b4cf97",
   "metadata": {},
   "outputs": [],
   "source": [
    "from collections import defaultdict"
   ]
  },
  {
   "cell_type": "code",
   "execution_count": 2,
   "id": "cf1799d2",
   "metadata": {},
   "outputs": [],
   "source": [
    "class TrieNode:\n",
    "    def __init__(self):\n",
    "        self.children = {}\n",
    "        self.count = 0"
   ]
  },
  {
   "cell_type": "code",
   "execution_count": 3,
   "id": "ec23e678",
   "metadata": {},
   "outputs": [],
   "source": [
    "class Trie:\n",
    "    def __init__(self, suffix=False):\n",
    "        self.root = TrieNode()\n",
    "        self.suffix = suffix\n",
    "    def insert(self, word):\n",
    "        if self.suffix:\n",
    "            word = word[::-1]\n",
    "        node = self.root\n",
    "        for ch in word:\n",
    "            if ch not in node.children:\n",
    "                node.children[ch] = TrieNode()\n",
    "            node = node.children[ch]\n",
    "            node.count += 1\n",
    "    def split_word(self, word):\n",
    "        if self.suffix:\n",
    "            w = word[::-1]\n",
    "        else:\n",
    "            w = word\n",
    "        node = self.root\n",
    "        best_idx = 0\n",
    "        max_branching = -1\n",
    "        for i, ch in enumerate(w):\n",
    "            if ch not in node.children:\n",
    "                break\n",
    "            node = node.children[ch]\n",
    "            branching = len(node.children)\n",
    "            if branching > max_branching:\n",
    "                max_branching = branching\n",
    "                best_idx = i + 1\n",
    "        if self.suffix:\n",
    "            stem = word[:-best_idx] if best_idx > 0 else word\n",
    "            suffix = word[-best_idx:] if best_idx > 0 else \"\"\n",
    "        else:\n",
    "            stem = word[:best_idx]\n",
    "            suffix = word[best_idx:]\n",
    "        return stem, suffix"
   ]
  },
  {
   "cell_type": "code",
   "execution_count": 4,
   "id": "41497ec0",
   "metadata": {},
   "outputs": [],
   "source": [
    "with open(\"brown_nouns.txt\") as f:\n",
    "    words = [w.strip().lower() for w in f if w.strip()]\n",
    "prefix_trie = Trie()\n",
    "suffix_trie = Trie(suffix=True)\n",
    "for word in words:\n",
    "    prefix_trie.insert(word)\n",
    "    suffix_trie.insert(word)\n",
    "ans = []\n",
    "for word in words:\n",
    "    pstem, psuffix = prefix_trie.split_word(word)\n",
    "    sstem, ssuffix = suffix_trie.split_word(word)\n",
    "    ans.append({\n",
    "        \"word\": word,\n",
    "        \"prefix_split\": f\"{word}={pstem}+{psuffix}\",\n",
    "        \"suffix_split\": f\"{word}={sstem}+{ssuffix}\"\n",
    "    })\n",
    "with open(\"output.txt\", \"w\", encoding=\"utf-8\") as f:\n",
    "    for x in ans:\n",
    "        f.write(x[\"prefix_split\"] + \" | \" + x[\"suffix_split\"] + \"\\n\")"
   ]
  }
 ],
 "metadata": {
  "kernelspec": {
   "display_name": "env",
   "language": "python",
   "name": "python3"
  },
  "language_info": {
   "codemirror_mode": {
    "name": "ipython",
    "version": 3
   },
   "file_extension": ".py",
   "mimetype": "text/x-python",
   "name": "python",
   "nbconvert_exporter": "python",
   "pygments_lexer": "ipython3",
   "version": "3.13.7"
  }
 },
 "nbformat": 4,
 "nbformat_minor": 5
}
