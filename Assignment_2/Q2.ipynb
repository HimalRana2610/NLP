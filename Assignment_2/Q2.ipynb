{
 "cells": [
  {
   "cell_type": "code",
   "execution_count": 1,
   "id": "9e6df3c7",
   "metadata": {},
   "outputs": [],
   "source": [
    "class MorphFST:\n",
    "    def __init__(self):\n",
    "        self.START = \"q0\"\n",
    "        self.IES = \"q_ies\"\n",
    "        self.ES = \"q_es\"\n",
    "        self.SIMPLE_S = \"q_s\"\n",
    "        self.ACCEPT_SG = \"q_accept_sg\"\n",
    "        self.ACCEPT_PL = \"q_accept_pl\"\n",
    "        self.REJECT = \"q_reject\"\n",
    "\n",
    "    def process(self, word: str) -> str:\n",
    "        state = self.START\n",
    "        root = \"\"\n",
    "        w = word.lower()\n",
    "\n",
    "        special_endings = (\"s\", \"z\", \"x\", \"ch\", \"sh\")\n",
    "\n",
    "        if not w.endswith(\"s\"):\n",
    "            return f\"{w}+N+SG\"\n",
    "\n",
    "        if w.endswith(\"ies\"):\n",
    "            stem = w[:-3]\n",
    "            if stem and stem[-1] not in \"aeiou\":\n",
    "                return f\"{stem}y+N+PL\"\n",
    "            else:\n",
    "                return \"Invalid Word\"\n",
    "\n",
    "        if w.endswith(\"es\"):\n",
    "            stem = w[:-2]\n",
    "            if stem.endswith(special_endings):\n",
    "                return f\"{stem}+N+PL\"\n",
    "            else:\n",
    "                return \"Invalid Word\"\n",
    "\n",
    "        if w.endswith(\"s\"):\n",
    "            stem = w[:-1]\n",
    "            if not stem.endswith(special_endings):\n",
    "                return f\"{stem}+N+PL\"\n",
    "            else:\n",
    "                return \"Invalid Word\"\n",
    "\n",
    "        return \"Invalid Word\""
   ]
  },
  {
   "cell_type": "code",
   "execution_count": 2,
   "id": "2f199135",
   "metadata": {},
   "outputs": [
    {
     "name": "stdout",
     "output_type": "stream",
     "text": [
      "Results saved in output.txt\n"
     ]
    }
   ],
   "source": [
    "fst = MorphFST()\n",
    "with open(\"brown_nouns.txt\", \"r\", encoding=\"utf-8\") as in_f:\n",
    "  nouns = [line.strip() for line in in_f if line.strip()]\n",
    "with open(\"output.txt\", \"w\", encoding=\"utf-8\") as out_f:\n",
    "  for word in nouns:\n",
    "    out_f.write(f\"{fst.process(word)}\\n\")\n",
    "print(\"Results saved in output.txt\")"
   ]
  }
 ],
 "metadata": {
  "kernelspec": {
   "display_name": "env",
   "language": "python",
   "name": "python3"
  },
  "language_info": {
   "codemirror_mode": {
    "name": "ipython",
    "version": 3
   },
   "file_extension": ".py",
   "mimetype": "text/x-python",
   "name": "python",
   "nbconvert_exporter": "python",
   "pygments_lexer": "ipython3",
   "version": "3.13.7"
  }
 },
 "nbformat": 4,
 "nbformat_minor": 5
}
